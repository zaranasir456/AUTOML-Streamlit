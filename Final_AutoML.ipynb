{
  "nbformat": 4,
  "nbformat_minor": 0,
  "metadata": {
    "colab": {
      "provenance": []
    },
    "kernelspec": {
      "name": "python3",
      "display_name": "Python 3"
    },
    "language_info": {
      "name": "python"
    }
  },
  "cells": [
    {
      "cell_type": "code",
      "execution_count": null,
      "metadata": {
        "id": "kxfk5twcZFWx"
      },
      "outputs": [],
      "source": [
        "# AutoKeras ML\n",
        "# Dataset checking on already deployed model\n",
        "\n",
        "!pip install autokeras\n",
        "\n",
        "from IPython.core.history import HistoryAccessor\n",
        "import pandas as pd\n",
        "import numpy as np\n",
        "import tensorflow as tf\n",
        "from matplotlib import pyplot as plt\n",
        "from google.colab import files\n",
        "import io\n",
        "import autokeras as ak\n",
        "\n",
        "uploaded = files.upload()\n",
        "\n",
        "df = pd.read_csv(io.BytesIO(uploaded['nyc-east-river-bicycle-counts_data.csv']))\n",
        "\n",
        "train_size = int(df.shape[0] * 0.9)\n",
        "df[:train_size].to_csv(\"train.csv\", index=False)\n",
        "df[train_size:].to_csv(\"eval.csv\", index=False)\n",
        "train_file_path = \"train.csv\"\n",
        "test_file_path = \"eval.csv\"\n",
        "\n",
        "# Initialize the structured data regressor.\n",
        "reg = ak.StructuredDataRegressor(\n",
        "    overwrite=True, max_trials=1\n",
        ")  # It tries 3 different models.\n",
        "# Feed the structured data regressor with training data.\n",
        "result = reg.fit(\n",
        "    # The path to the train.csv file.\n",
        "    train_file_path,\n",
        "    # The name of the label column.\n",
        "    \"Precipitation\",\n",
        "    epochs = 4000,\n",
        ")\n",
        "\n",
        "# Predict with the best model.\n",
        "predicted_y = reg.predict(test_file_path)\n",
        "# Evaluate the best model with testing data.\n",
        "print(reg.evaluate(test_file_path, \"Precipitation\"))\n",
        "\n",
        "plt.plot(result.history['loss'])\n",
        "\n",
        "plt.title('model loss')\n",
        "plt.ylabel('loss')\n",
        "plt.xlabel('epoch')\n",
        "plt.legend(['train'], loc='upper left')\n",
        "plt.show()"
      ]
    }
  ]
}